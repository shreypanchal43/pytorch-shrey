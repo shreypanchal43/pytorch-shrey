{
  "nbformat": 4,
  "nbformat_minor": 0,
  "metadata": {
    "colab": {
      "name": "1-SimpleNeuralNet.ipynb",
      "provenance": [],
      "collapsed_sections": []
    },
    "kernelspec": {
      "name": "python3",
      "display_name": "Python 3"
    },
    "accelerator": "GPU",
    "widgets": {
      "application/vnd.jupyter.widget-state+json": {
        "dacf1b2736e64f32bb6fc815053b84ba": {
          "model_module": "@jupyter-widgets/controls",
          "model_name": "HBoxModel",
          "state": {
            "_view_name": "HBoxView",
            "_dom_classes": [],
            "_model_name": "HBoxModel",
            "_view_module": "@jupyter-widgets/controls",
            "_model_module_version": "1.5.0",
            "_view_count": null,
            "_view_module_version": "1.5.0",
            "box_style": "",
            "layout": "IPY_MODEL_e52cc480a07b47a1b989b2eb27cfc158",
            "_model_module": "@jupyter-widgets/controls",
            "children": [
              "IPY_MODEL_c4801c50954f4c3f96d49e51628b81f9",
              "IPY_MODEL_be37647856eb4a12ad8ef35628642f7d"
            ]
          }
        },
        "e52cc480a07b47a1b989b2eb27cfc158": {
          "model_module": "@jupyter-widgets/base",
          "model_name": "LayoutModel",
          "state": {
            "_view_name": "LayoutView",
            "grid_template_rows": null,
            "right": null,
            "justify_content": null,
            "_view_module": "@jupyter-widgets/base",
            "overflow": null,
            "_model_module_version": "1.2.0",
            "_view_count": null,
            "flex_flow": null,
            "width": null,
            "min_width": null,
            "border": null,
            "align_items": null,
            "bottom": null,
            "_model_module": "@jupyter-widgets/base",
            "top": null,
            "grid_column": null,
            "overflow_y": null,
            "overflow_x": null,
            "grid_auto_flow": null,
            "grid_area": null,
            "grid_template_columns": null,
            "flex": null,
            "_model_name": "LayoutModel",
            "justify_items": null,
            "grid_row": null,
            "max_height": null,
            "align_content": null,
            "visibility": null,
            "align_self": null,
            "height": null,
            "min_height": null,
            "padding": null,
            "grid_auto_rows": null,
            "grid_gap": null,
            "max_width": null,
            "order": null,
            "_view_module_version": "1.2.0",
            "grid_template_areas": null,
            "object_position": null,
            "object_fit": null,
            "grid_auto_columns": null,
            "margin": null,
            "display": null,
            "left": null
          }
        },
        "c4801c50954f4c3f96d49e51628b81f9": {
          "model_module": "@jupyter-widgets/controls",
          "model_name": "FloatProgressModel",
          "state": {
            "_view_name": "ProgressView",
            "style": "IPY_MODEL_0cfd46289edf4887a33d45cc97fb97e9",
            "_dom_classes": [],
            "description": "",
            "_model_name": "FloatProgressModel",
            "bar_style": "success",
            "max": 1,
            "_view_module": "@jupyter-widgets/controls",
            "_model_module_version": "1.5.0",
            "value": 1,
            "_view_count": null,
            "_view_module_version": "1.5.0",
            "orientation": "horizontal",
            "min": 0,
            "description_tooltip": null,
            "_model_module": "@jupyter-widgets/controls",
            "layout": "IPY_MODEL_f696cc3607c24ae5b30a1a5ce9c5503b"
          }
        },
        "be37647856eb4a12ad8ef35628642f7d": {
          "model_module": "@jupyter-widgets/controls",
          "model_name": "HTMLModel",
          "state": {
            "_view_name": "HTMLView",
            "style": "IPY_MODEL_6ddc1e16afd0493f89c0662cb69d1d91",
            "_dom_classes": [],
            "description": "",
            "_model_name": "HTMLModel",
            "placeholder": "​",
            "_view_module": "@jupyter-widgets/controls",
            "_model_module_version": "1.5.0",
            "value": " 9920512/? [00:01&lt;00:00, 7217718.72it/s]",
            "_view_count": null,
            "_view_module_version": "1.5.0",
            "description_tooltip": null,
            "_model_module": "@jupyter-widgets/controls",
            "layout": "IPY_MODEL_194fb6345a6f44d1affac83cccf9a515"
          }
        },
        "0cfd46289edf4887a33d45cc97fb97e9": {
          "model_module": "@jupyter-widgets/controls",
          "model_name": "ProgressStyleModel",
          "state": {
            "_view_name": "StyleView",
            "_model_name": "ProgressStyleModel",
            "description_width": "initial",
            "_view_module": "@jupyter-widgets/base",
            "_model_module_version": "1.5.0",
            "_view_count": null,
            "_view_module_version": "1.2.0",
            "bar_color": null,
            "_model_module": "@jupyter-widgets/controls"
          }
        },
        "f696cc3607c24ae5b30a1a5ce9c5503b": {
          "model_module": "@jupyter-widgets/base",
          "model_name": "LayoutModel",
          "state": {
            "_view_name": "LayoutView",
            "grid_template_rows": null,
            "right": null,
            "justify_content": null,
            "_view_module": "@jupyter-widgets/base",
            "overflow": null,
            "_model_module_version": "1.2.0",
            "_view_count": null,
            "flex_flow": null,
            "width": null,
            "min_width": null,
            "border": null,
            "align_items": null,
            "bottom": null,
            "_model_module": "@jupyter-widgets/base",
            "top": null,
            "grid_column": null,
            "overflow_y": null,
            "overflow_x": null,
            "grid_auto_flow": null,
            "grid_area": null,
            "grid_template_columns": null,
            "flex": null,
            "_model_name": "LayoutModel",
            "justify_items": null,
            "grid_row": null,
            "max_height": null,
            "align_content": null,
            "visibility": null,
            "align_self": null,
            "height": null,
            "min_height": null,
            "padding": null,
            "grid_auto_rows": null,
            "grid_gap": null,
            "max_width": null,
            "order": null,
            "_view_module_version": "1.2.0",
            "grid_template_areas": null,
            "object_position": null,
            "object_fit": null,
            "grid_auto_columns": null,
            "margin": null,
            "display": null,
            "left": null
          }
        },
        "6ddc1e16afd0493f89c0662cb69d1d91": {
          "model_module": "@jupyter-widgets/controls",
          "model_name": "DescriptionStyleModel",
          "state": {
            "_view_name": "StyleView",
            "_model_name": "DescriptionStyleModel",
            "description_width": "",
            "_view_module": "@jupyter-widgets/base",
            "_model_module_version": "1.5.0",
            "_view_count": null,
            "_view_module_version": "1.2.0",
            "_model_module": "@jupyter-widgets/controls"
          }
        },
        "194fb6345a6f44d1affac83cccf9a515": {
          "model_module": "@jupyter-widgets/base",
          "model_name": "LayoutModel",
          "state": {
            "_view_name": "LayoutView",
            "grid_template_rows": null,
            "right": null,
            "justify_content": null,
            "_view_module": "@jupyter-widgets/base",
            "overflow": null,
            "_model_module_version": "1.2.0",
            "_view_count": null,
            "flex_flow": null,
            "width": null,
            "min_width": null,
            "border": null,
            "align_items": null,
            "bottom": null,
            "_model_module": "@jupyter-widgets/base",
            "top": null,
            "grid_column": null,
            "overflow_y": null,
            "overflow_x": null,
            "grid_auto_flow": null,
            "grid_area": null,
            "grid_template_columns": null,
            "flex": null,
            "_model_name": "LayoutModel",
            "justify_items": null,
            "grid_row": null,
            "max_height": null,
            "align_content": null,
            "visibility": null,
            "align_self": null,
            "height": null,
            "min_height": null,
            "padding": null,
            "grid_auto_rows": null,
            "grid_gap": null,
            "max_width": null,
            "order": null,
            "_view_module_version": "1.2.0",
            "grid_template_areas": null,
            "object_position": null,
            "object_fit": null,
            "grid_auto_columns": null,
            "margin": null,
            "display": null,
            "left": null
          }
        },
        "93f34dce71c14ab6b7aeb2ae39ba860c": {
          "model_module": "@jupyter-widgets/controls",
          "model_name": "HBoxModel",
          "state": {
            "_view_name": "HBoxView",
            "_dom_classes": [],
            "_model_name": "HBoxModel",
            "_view_module": "@jupyter-widgets/controls",
            "_model_module_version": "1.5.0",
            "_view_count": null,
            "_view_module_version": "1.5.0",
            "box_style": "",
            "layout": "IPY_MODEL_665ed3b1c0214c33ba8ae01ae3c1a66e",
            "_model_module": "@jupyter-widgets/controls",
            "children": [
              "IPY_MODEL_da4df79653ad470fa71ebbfbae85feb9",
              "IPY_MODEL_e942674bdd204dc592d4bd00e7ffb3c0"
            ]
          }
        },
        "665ed3b1c0214c33ba8ae01ae3c1a66e": {
          "model_module": "@jupyter-widgets/base",
          "model_name": "LayoutModel",
          "state": {
            "_view_name": "LayoutView",
            "grid_template_rows": null,
            "right": null,
            "justify_content": null,
            "_view_module": "@jupyter-widgets/base",
            "overflow": null,
            "_model_module_version": "1.2.0",
            "_view_count": null,
            "flex_flow": null,
            "width": null,
            "min_width": null,
            "border": null,
            "align_items": null,
            "bottom": null,
            "_model_module": "@jupyter-widgets/base",
            "top": null,
            "grid_column": null,
            "overflow_y": null,
            "overflow_x": null,
            "grid_auto_flow": null,
            "grid_area": null,
            "grid_template_columns": null,
            "flex": null,
            "_model_name": "LayoutModel",
            "justify_items": null,
            "grid_row": null,
            "max_height": null,
            "align_content": null,
            "visibility": null,
            "align_self": null,
            "height": null,
            "min_height": null,
            "padding": null,
            "grid_auto_rows": null,
            "grid_gap": null,
            "max_width": null,
            "order": null,
            "_view_module_version": "1.2.0",
            "grid_template_areas": null,
            "object_position": null,
            "object_fit": null,
            "grid_auto_columns": null,
            "margin": null,
            "display": null,
            "left": null
          }
        },
        "da4df79653ad470fa71ebbfbae85feb9": {
          "model_module": "@jupyter-widgets/controls",
          "model_name": "FloatProgressModel",
          "state": {
            "_view_name": "ProgressView",
            "style": "IPY_MODEL_76789f128b304b5a9f8d41181ae78ec6",
            "_dom_classes": [],
            "description": "",
            "_model_name": "FloatProgressModel",
            "bar_style": "success",
            "max": 1,
            "_view_module": "@jupyter-widgets/controls",
            "_model_module_version": "1.5.0",
            "value": 1,
            "_view_count": null,
            "_view_module_version": "1.5.0",
            "orientation": "horizontal",
            "min": 0,
            "description_tooltip": null,
            "_model_module": "@jupyter-widgets/controls",
            "layout": "IPY_MODEL_f5464e1053264583846cf580bf89c257"
          }
        },
        "e942674bdd204dc592d4bd00e7ffb3c0": {
          "model_module": "@jupyter-widgets/controls",
          "model_name": "HTMLModel",
          "state": {
            "_view_name": "HTMLView",
            "style": "IPY_MODEL_cc10429d113a45e5b5df2110a144069c",
            "_dom_classes": [],
            "description": "",
            "_model_name": "HTMLModel",
            "placeholder": "​",
            "_view_module": "@jupyter-widgets/controls",
            "_model_module_version": "1.5.0",
            "value": " 32768/? [00:00&lt;00:00, 337939.43it/s]",
            "_view_count": null,
            "_view_module_version": "1.5.0",
            "description_tooltip": null,
            "_model_module": "@jupyter-widgets/controls",
            "layout": "IPY_MODEL_3144c8978dbe4c5aa6a70fe5c0c96416"
          }
        },
        "76789f128b304b5a9f8d41181ae78ec6": {
          "model_module": "@jupyter-widgets/controls",
          "model_name": "ProgressStyleModel",
          "state": {
            "_view_name": "StyleView",
            "_model_name": "ProgressStyleModel",
            "description_width": "initial",
            "_view_module": "@jupyter-widgets/base",
            "_model_module_version": "1.5.0",
            "_view_count": null,
            "_view_module_version": "1.2.0",
            "bar_color": null,
            "_model_module": "@jupyter-widgets/controls"
          }
        },
        "f5464e1053264583846cf580bf89c257": {
          "model_module": "@jupyter-widgets/base",
          "model_name": "LayoutModel",
          "state": {
            "_view_name": "LayoutView",
            "grid_template_rows": null,
            "right": null,
            "justify_content": null,
            "_view_module": "@jupyter-widgets/base",
            "overflow": null,
            "_model_module_version": "1.2.0",
            "_view_count": null,
            "flex_flow": null,
            "width": null,
            "min_width": null,
            "border": null,
            "align_items": null,
            "bottom": null,
            "_model_module": "@jupyter-widgets/base",
            "top": null,
            "grid_column": null,
            "overflow_y": null,
            "overflow_x": null,
            "grid_auto_flow": null,
            "grid_area": null,
            "grid_template_columns": null,
            "flex": null,
            "_model_name": "LayoutModel",
            "justify_items": null,
            "grid_row": null,
            "max_height": null,
            "align_content": null,
            "visibility": null,
            "align_self": null,
            "height": null,
            "min_height": null,
            "padding": null,
            "grid_auto_rows": null,
            "grid_gap": null,
            "max_width": null,
            "order": null,
            "_view_module_version": "1.2.0",
            "grid_template_areas": null,
            "object_position": null,
            "object_fit": null,
            "grid_auto_columns": null,
            "margin": null,
            "display": null,
            "left": null
          }
        },
        "cc10429d113a45e5b5df2110a144069c": {
          "model_module": "@jupyter-widgets/controls",
          "model_name": "DescriptionStyleModel",
          "state": {
            "_view_name": "StyleView",
            "_model_name": "DescriptionStyleModel",
            "description_width": "",
            "_view_module": "@jupyter-widgets/base",
            "_model_module_version": "1.5.0",
            "_view_count": null,
            "_view_module_version": "1.2.0",
            "_model_module": "@jupyter-widgets/controls"
          }
        },
        "3144c8978dbe4c5aa6a70fe5c0c96416": {
          "model_module": "@jupyter-widgets/base",
          "model_name": "LayoutModel",
          "state": {
            "_view_name": "LayoutView",
            "grid_template_rows": null,
            "right": null,
            "justify_content": null,
            "_view_module": "@jupyter-widgets/base",
            "overflow": null,
            "_model_module_version": "1.2.0",
            "_view_count": null,
            "flex_flow": null,
            "width": null,
            "min_width": null,
            "border": null,
            "align_items": null,
            "bottom": null,
            "_model_module": "@jupyter-widgets/base",
            "top": null,
            "grid_column": null,
            "overflow_y": null,
            "overflow_x": null,
            "grid_auto_flow": null,
            "grid_area": null,
            "grid_template_columns": null,
            "flex": null,
            "_model_name": "LayoutModel",
            "justify_items": null,
            "grid_row": null,
            "max_height": null,
            "align_content": null,
            "visibility": null,
            "align_self": null,
            "height": null,
            "min_height": null,
            "padding": null,
            "grid_auto_rows": null,
            "grid_gap": null,
            "max_width": null,
            "order": null,
            "_view_module_version": "1.2.0",
            "grid_template_areas": null,
            "object_position": null,
            "object_fit": null,
            "grid_auto_columns": null,
            "margin": null,
            "display": null,
            "left": null
          }
        },
        "3ea1df7f43e54f298fd987467f99a2cd": {
          "model_module": "@jupyter-widgets/controls",
          "model_name": "HBoxModel",
          "state": {
            "_view_name": "HBoxView",
            "_dom_classes": [],
            "_model_name": "HBoxModel",
            "_view_module": "@jupyter-widgets/controls",
            "_model_module_version": "1.5.0",
            "_view_count": null,
            "_view_module_version": "1.5.0",
            "box_style": "",
            "layout": "IPY_MODEL_5aee6f7c480446d49d56789be36b6381",
            "_model_module": "@jupyter-widgets/controls",
            "children": [
              "IPY_MODEL_4f3562cfee864e77b442663ffb83f2f0",
              "IPY_MODEL_b57772ad787c4535a0bc04bf2095f3ba"
            ]
          }
        },
        "5aee6f7c480446d49d56789be36b6381": {
          "model_module": "@jupyter-widgets/base",
          "model_name": "LayoutModel",
          "state": {
            "_view_name": "LayoutView",
            "grid_template_rows": null,
            "right": null,
            "justify_content": null,
            "_view_module": "@jupyter-widgets/base",
            "overflow": null,
            "_model_module_version": "1.2.0",
            "_view_count": null,
            "flex_flow": null,
            "width": null,
            "min_width": null,
            "border": null,
            "align_items": null,
            "bottom": null,
            "_model_module": "@jupyter-widgets/base",
            "top": null,
            "grid_column": null,
            "overflow_y": null,
            "overflow_x": null,
            "grid_auto_flow": null,
            "grid_area": null,
            "grid_template_columns": null,
            "flex": null,
            "_model_name": "LayoutModel",
            "justify_items": null,
            "grid_row": null,
            "max_height": null,
            "align_content": null,
            "visibility": null,
            "align_self": null,
            "height": null,
            "min_height": null,
            "padding": null,
            "grid_auto_rows": null,
            "grid_gap": null,
            "max_width": null,
            "order": null,
            "_view_module_version": "1.2.0",
            "grid_template_areas": null,
            "object_position": null,
            "object_fit": null,
            "grid_auto_columns": null,
            "margin": null,
            "display": null,
            "left": null
          }
        },
        "4f3562cfee864e77b442663ffb83f2f0": {
          "model_module": "@jupyter-widgets/controls",
          "model_name": "FloatProgressModel",
          "state": {
            "_view_name": "ProgressView",
            "style": "IPY_MODEL_7118b57e55de4b609663ab0202afd973",
            "_dom_classes": [],
            "description": "",
            "_model_name": "FloatProgressModel",
            "bar_style": "success",
            "max": 1,
            "_view_module": "@jupyter-widgets/controls",
            "_model_module_version": "1.5.0",
            "value": 1,
            "_view_count": null,
            "_view_module_version": "1.5.0",
            "orientation": "horizontal",
            "min": 0,
            "description_tooltip": null,
            "_model_module": "@jupyter-widgets/controls",
            "layout": "IPY_MODEL_25685382e61c4f3e9d3427ed372ecd53"
          }
        },
        "b57772ad787c4535a0bc04bf2095f3ba": {
          "model_module": "@jupyter-widgets/controls",
          "model_name": "HTMLModel",
          "state": {
            "_view_name": "HTMLView",
            "style": "IPY_MODEL_e7706118252547bbbf926b102b895088",
            "_dom_classes": [],
            "description": "",
            "_model_name": "HTMLModel",
            "placeholder": "​",
            "_view_module": "@jupyter-widgets/controls",
            "_model_module_version": "1.5.0",
            "value": " 1654784/? [00:00&lt;00:00, 2393107.39it/s]",
            "_view_count": null,
            "_view_module_version": "1.5.0",
            "description_tooltip": null,
            "_model_module": "@jupyter-widgets/controls",
            "layout": "IPY_MODEL_d6838aadb9384b66a5c1f9f583b98961"
          }
        },
        "7118b57e55de4b609663ab0202afd973": {
          "model_module": "@jupyter-widgets/controls",
          "model_name": "ProgressStyleModel",
          "state": {
            "_view_name": "StyleView",
            "_model_name": "ProgressStyleModel",
            "description_width": "initial",
            "_view_module": "@jupyter-widgets/base",
            "_model_module_version": "1.5.0",
            "_view_count": null,
            "_view_module_version": "1.2.0",
            "bar_color": null,
            "_model_module": "@jupyter-widgets/controls"
          }
        },
        "25685382e61c4f3e9d3427ed372ecd53": {
          "model_module": "@jupyter-widgets/base",
          "model_name": "LayoutModel",
          "state": {
            "_view_name": "LayoutView",
            "grid_template_rows": null,
            "right": null,
            "justify_content": null,
            "_view_module": "@jupyter-widgets/base",
            "overflow": null,
            "_model_module_version": "1.2.0",
            "_view_count": null,
            "flex_flow": null,
            "width": null,
            "min_width": null,
            "border": null,
            "align_items": null,
            "bottom": null,
            "_model_module": "@jupyter-widgets/base",
            "top": null,
            "grid_column": null,
            "overflow_y": null,
            "overflow_x": null,
            "grid_auto_flow": null,
            "grid_area": null,
            "grid_template_columns": null,
            "flex": null,
            "_model_name": "LayoutModel",
            "justify_items": null,
            "grid_row": null,
            "max_height": null,
            "align_content": null,
            "visibility": null,
            "align_self": null,
            "height": null,
            "min_height": null,
            "padding": null,
            "grid_auto_rows": null,
            "grid_gap": null,
            "max_width": null,
            "order": null,
            "_view_module_version": "1.2.0",
            "grid_template_areas": null,
            "object_position": null,
            "object_fit": null,
            "grid_auto_columns": null,
            "margin": null,
            "display": null,
            "left": null
          }
        },
        "e7706118252547bbbf926b102b895088": {
          "model_module": "@jupyter-widgets/controls",
          "model_name": "DescriptionStyleModel",
          "state": {
            "_view_name": "StyleView",
            "_model_name": "DescriptionStyleModel",
            "description_width": "",
            "_view_module": "@jupyter-widgets/base",
            "_model_module_version": "1.5.0",
            "_view_count": null,
            "_view_module_version": "1.2.0",
            "_model_module": "@jupyter-widgets/controls"
          }
        },
        "d6838aadb9384b66a5c1f9f583b98961": {
          "model_module": "@jupyter-widgets/base",
          "model_name": "LayoutModel",
          "state": {
            "_view_name": "LayoutView",
            "grid_template_rows": null,
            "right": null,
            "justify_content": null,
            "_view_module": "@jupyter-widgets/base",
            "overflow": null,
            "_model_module_version": "1.2.0",
            "_view_count": null,
            "flex_flow": null,
            "width": null,
            "min_width": null,
            "border": null,
            "align_items": null,
            "bottom": null,
            "_model_module": "@jupyter-widgets/base",
            "top": null,
            "grid_column": null,
            "overflow_y": null,
            "overflow_x": null,
            "grid_auto_flow": null,
            "grid_area": null,
            "grid_template_columns": null,
            "flex": null,
            "_model_name": "LayoutModel",
            "justify_items": null,
            "grid_row": null,
            "max_height": null,
            "align_content": null,
            "visibility": null,
            "align_self": null,
            "height": null,
            "min_height": null,
            "padding": null,
            "grid_auto_rows": null,
            "grid_gap": null,
            "max_width": null,
            "order": null,
            "_view_module_version": "1.2.0",
            "grid_template_areas": null,
            "object_position": null,
            "object_fit": null,
            "grid_auto_columns": null,
            "margin": null,
            "display": null,
            "left": null
          }
        },
        "cbe336e17d2844c394ee64a0c520de68": {
          "model_module": "@jupyter-widgets/controls",
          "model_name": "HBoxModel",
          "state": {
            "_view_name": "HBoxView",
            "_dom_classes": [],
            "_model_name": "HBoxModel",
            "_view_module": "@jupyter-widgets/controls",
            "_model_module_version": "1.5.0",
            "_view_count": null,
            "_view_module_version": "1.5.0",
            "box_style": "",
            "layout": "IPY_MODEL_8d296eb25b2e4d7abaf948633218e4df",
            "_model_module": "@jupyter-widgets/controls",
            "children": [
              "IPY_MODEL_6b4da7b7060a4072ade214c745b3a556",
              "IPY_MODEL_f14415b23afb4771a5f0f17b053b840c"
            ]
          }
        },
        "8d296eb25b2e4d7abaf948633218e4df": {
          "model_module": "@jupyter-widgets/base",
          "model_name": "LayoutModel",
          "state": {
            "_view_name": "LayoutView",
            "grid_template_rows": null,
            "right": null,
            "justify_content": null,
            "_view_module": "@jupyter-widgets/base",
            "overflow": null,
            "_model_module_version": "1.2.0",
            "_view_count": null,
            "flex_flow": null,
            "width": null,
            "min_width": null,
            "border": null,
            "align_items": null,
            "bottom": null,
            "_model_module": "@jupyter-widgets/base",
            "top": null,
            "grid_column": null,
            "overflow_y": null,
            "overflow_x": null,
            "grid_auto_flow": null,
            "grid_area": null,
            "grid_template_columns": null,
            "flex": null,
            "_model_name": "LayoutModel",
            "justify_items": null,
            "grid_row": null,
            "max_height": null,
            "align_content": null,
            "visibility": null,
            "align_self": null,
            "height": null,
            "min_height": null,
            "padding": null,
            "grid_auto_rows": null,
            "grid_gap": null,
            "max_width": null,
            "order": null,
            "_view_module_version": "1.2.0",
            "grid_template_areas": null,
            "object_position": null,
            "object_fit": null,
            "grid_auto_columns": null,
            "margin": null,
            "display": null,
            "left": null
          }
        },
        "6b4da7b7060a4072ade214c745b3a556": {
          "model_module": "@jupyter-widgets/controls",
          "model_name": "FloatProgressModel",
          "state": {
            "_view_name": "ProgressView",
            "style": "IPY_MODEL_c20529faf11548e5a055aac486e1d5e9",
            "_dom_classes": [],
            "description": "",
            "_model_name": "FloatProgressModel",
            "bar_style": "success",
            "max": 1,
            "_view_module": "@jupyter-widgets/controls",
            "_model_module_version": "1.5.0",
            "value": 1,
            "_view_count": null,
            "_view_module_version": "1.5.0",
            "orientation": "horizontal",
            "min": 0,
            "description_tooltip": null,
            "_model_module": "@jupyter-widgets/controls",
            "layout": "IPY_MODEL_758729b1b5dd41ae8040d9490c2dc211"
          }
        },
        "f14415b23afb4771a5f0f17b053b840c": {
          "model_module": "@jupyter-widgets/controls",
          "model_name": "HTMLModel",
          "state": {
            "_view_name": "HTMLView",
            "style": "IPY_MODEL_a368806958e644ba8bbd5e4ae8d72a9a",
            "_dom_classes": [],
            "description": "",
            "_model_name": "HTMLModel",
            "placeholder": "​",
            "_view_module": "@jupyter-widgets/controls",
            "_model_module_version": "1.5.0",
            "value": " 8192/? [00:00&lt;00:00, 20847.22it/s]",
            "_view_count": null,
            "_view_module_version": "1.5.0",
            "description_tooltip": null,
            "_model_module": "@jupyter-widgets/controls",
            "layout": "IPY_MODEL_531b19767c214adca473476478805666"
          }
        },
        "c20529faf11548e5a055aac486e1d5e9": {
          "model_module": "@jupyter-widgets/controls",
          "model_name": "ProgressStyleModel",
          "state": {
            "_view_name": "StyleView",
            "_model_name": "ProgressStyleModel",
            "description_width": "initial",
            "_view_module": "@jupyter-widgets/base",
            "_model_module_version": "1.5.0",
            "_view_count": null,
            "_view_module_version": "1.2.0",
            "bar_color": null,
            "_model_module": "@jupyter-widgets/controls"
          }
        },
        "758729b1b5dd41ae8040d9490c2dc211": {
          "model_module": "@jupyter-widgets/base",
          "model_name": "LayoutModel",
          "state": {
            "_view_name": "LayoutView",
            "grid_template_rows": null,
            "right": null,
            "justify_content": null,
            "_view_module": "@jupyter-widgets/base",
            "overflow": null,
            "_model_module_version": "1.2.0",
            "_view_count": null,
            "flex_flow": null,
            "width": null,
            "min_width": null,
            "border": null,
            "align_items": null,
            "bottom": null,
            "_model_module": "@jupyter-widgets/base",
            "top": null,
            "grid_column": null,
            "overflow_y": null,
            "overflow_x": null,
            "grid_auto_flow": null,
            "grid_area": null,
            "grid_template_columns": null,
            "flex": null,
            "_model_name": "LayoutModel",
            "justify_items": null,
            "grid_row": null,
            "max_height": null,
            "align_content": null,
            "visibility": null,
            "align_self": null,
            "height": null,
            "min_height": null,
            "padding": null,
            "grid_auto_rows": null,
            "grid_gap": null,
            "max_width": null,
            "order": null,
            "_view_module_version": "1.2.0",
            "grid_template_areas": null,
            "object_position": null,
            "object_fit": null,
            "grid_auto_columns": null,
            "margin": null,
            "display": null,
            "left": null
          }
        },
        "a368806958e644ba8bbd5e4ae8d72a9a": {
          "model_module": "@jupyter-widgets/controls",
          "model_name": "DescriptionStyleModel",
          "state": {
            "_view_name": "StyleView",
            "_model_name": "DescriptionStyleModel",
            "description_width": "",
            "_view_module": "@jupyter-widgets/base",
            "_model_module_version": "1.5.0",
            "_view_count": null,
            "_view_module_version": "1.2.0",
            "_model_module": "@jupyter-widgets/controls"
          }
        },
        "531b19767c214adca473476478805666": {
          "model_module": "@jupyter-widgets/base",
          "model_name": "LayoutModel",
          "state": {
            "_view_name": "LayoutView",
            "grid_template_rows": null,
            "right": null,
            "justify_content": null,
            "_view_module": "@jupyter-widgets/base",
            "overflow": null,
            "_model_module_version": "1.2.0",
            "_view_count": null,
            "flex_flow": null,
            "width": null,
            "min_width": null,
            "border": null,
            "align_items": null,
            "bottom": null,
            "_model_module": "@jupyter-widgets/base",
            "top": null,
            "grid_column": null,
            "overflow_y": null,
            "overflow_x": null,
            "grid_auto_flow": null,
            "grid_area": null,
            "grid_template_columns": null,
            "flex": null,
            "_model_name": "LayoutModel",
            "justify_items": null,
            "grid_row": null,
            "max_height": null,
            "align_content": null,
            "visibility": null,
            "align_self": null,
            "height": null,
            "min_height": null,
            "padding": null,
            "grid_auto_rows": null,
            "grid_gap": null,
            "max_width": null,
            "order": null,
            "_view_module_version": "1.2.0",
            "grid_template_areas": null,
            "object_position": null,
            "object_fit": null,
            "grid_auto_columns": null,
            "margin": null,
            "display": null,
            "left": null
          }
        }
      }
    }
  },
  "cells": [
    {
      "cell_type": "markdown",
      "metadata": {
        "id": "5YLH64mWIgUd"
      },
      "source": [
        "# Neural Network in Pytorch "
      ]
    },
    {
      "cell_type": "code",
      "metadata": {
        "id": "VSYXv_VhIbtD"
      },
      "source": [
        "import torch \n",
        "import torch.nn as nn\n",
        "import torchvision\n",
        "import torchvision.transforms as transforms\n",
        "from torch.utils.data import DataLoader\n",
        "\n",
        "import matplotlib.pyplot as plt"
      ],
      "execution_count": 1,
      "outputs": []
    },
    {
      "cell_type": "code",
      "metadata": {
        "colab": {
          "base_uri": "https://localhost:8080/",
          "height": 405,
          "referenced_widgets": [
            "dacf1b2736e64f32bb6fc815053b84ba",
            "e52cc480a07b47a1b989b2eb27cfc158",
            "c4801c50954f4c3f96d49e51628b81f9",
            "be37647856eb4a12ad8ef35628642f7d",
            "0cfd46289edf4887a33d45cc97fb97e9",
            "f696cc3607c24ae5b30a1a5ce9c5503b",
            "6ddc1e16afd0493f89c0662cb69d1d91",
            "194fb6345a6f44d1affac83cccf9a515",
            "93f34dce71c14ab6b7aeb2ae39ba860c",
            "665ed3b1c0214c33ba8ae01ae3c1a66e",
            "da4df79653ad470fa71ebbfbae85feb9",
            "e942674bdd204dc592d4bd00e7ffb3c0",
            "76789f128b304b5a9f8d41181ae78ec6",
            "f5464e1053264583846cf580bf89c257",
            "cc10429d113a45e5b5df2110a144069c",
            "3144c8978dbe4c5aa6a70fe5c0c96416",
            "3ea1df7f43e54f298fd987467f99a2cd",
            "5aee6f7c480446d49d56789be36b6381",
            "4f3562cfee864e77b442663ffb83f2f0",
            "b57772ad787c4535a0bc04bf2095f3ba",
            "7118b57e55de4b609663ab0202afd973",
            "25685382e61c4f3e9d3427ed372ecd53",
            "e7706118252547bbbf926b102b895088",
            "d6838aadb9384b66a5c1f9f583b98961",
            "cbe336e17d2844c394ee64a0c520de68",
            "8d296eb25b2e4d7abaf948633218e4df",
            "6b4da7b7060a4072ade214c745b3a556",
            "f14415b23afb4771a5f0f17b053b840c",
            "c20529faf11548e5a055aac486e1d5e9",
            "758729b1b5dd41ae8040d9490c2dc211",
            "a368806958e644ba8bbd5e4ae8d72a9a",
            "531b19767c214adca473476478805666"
          ]
        },
        "id": "bJpLAlRqJhNS",
        "outputId": "b8ac6996-54df-48e8-9cb7-51823aef8b51"
      },
      "source": [
        "train_data = torchvision.datasets.MNIST(root='./data', train=True, download=True, transform=transforms.ToTensor())"
      ],
      "execution_count": 2,
      "outputs": [
        {
          "output_type": "stream",
          "text": [
            "Downloading http://yann.lecun.com/exdb/mnist/train-images-idx3-ubyte.gz to ./data/MNIST/raw/train-images-idx3-ubyte.gz\n"
          ],
          "name": "stdout"
        },
        {
          "output_type": "display_data",
          "data": {
            "application/vnd.jupyter.widget-view+json": {
              "model_id": "dacf1b2736e64f32bb6fc815053b84ba",
              "version_minor": 0,
              "version_major": 2
            },
            "text/plain": [
              "HBox(children=(FloatProgress(value=1.0, bar_style='info', max=1.0), HTML(value='')))"
            ]
          },
          "metadata": {
            "tags": []
          }
        },
        {
          "output_type": "stream",
          "text": [
            "Extracting ./data/MNIST/raw/train-images-idx3-ubyte.gz to ./data/MNIST/raw\n",
            "Downloading http://yann.lecun.com/exdb/mnist/train-labels-idx1-ubyte.gz to ./data/MNIST/raw/train-labels-idx1-ubyte.gz\n"
          ],
          "name": "stdout"
        },
        {
          "output_type": "display_data",
          "data": {
            "application/vnd.jupyter.widget-view+json": {
              "model_id": "93f34dce71c14ab6b7aeb2ae39ba860c",
              "version_minor": 0,
              "version_major": 2
            },
            "text/plain": [
              "HBox(children=(FloatProgress(value=1.0, bar_style='info', max=1.0), HTML(value='')))"
            ]
          },
          "metadata": {
            "tags": []
          }
        },
        {
          "output_type": "stream",
          "text": [
            "Extracting ./data/MNIST/raw/train-labels-idx1-ubyte.gz to ./data/MNIST/raw\n",
            "Downloading http://yann.lecun.com/exdb/mnist/t10k-images-idx3-ubyte.gz to ./data/MNIST/raw/t10k-images-idx3-ubyte.gz\n",
            "\n"
          ],
          "name": "stdout"
        },
        {
          "output_type": "display_data",
          "data": {
            "application/vnd.jupyter.widget-view+json": {
              "model_id": "3ea1df7f43e54f298fd987467f99a2cd",
              "version_minor": 0,
              "version_major": 2
            },
            "text/plain": [
              "HBox(children=(FloatProgress(value=1.0, bar_style='info', max=1.0), HTML(value='')))"
            ]
          },
          "metadata": {
            "tags": []
          }
        },
        {
          "output_type": "stream",
          "text": [
            "Extracting ./data/MNIST/raw/t10k-images-idx3-ubyte.gz to ./data/MNIST/raw\n",
            "Downloading http://yann.lecun.com/exdb/mnist/t10k-labels-idx1-ubyte.gz to ./data/MNIST/raw/t10k-labels-idx1-ubyte.gz\n"
          ],
          "name": "stdout"
        },
        {
          "output_type": "display_data",
          "data": {
            "application/vnd.jupyter.widget-view+json": {
              "model_id": "cbe336e17d2844c394ee64a0c520de68",
              "version_minor": 0,
              "version_major": 2
            },
            "text/plain": [
              "HBox(children=(FloatProgress(value=1.0, bar_style='info', max=1.0), HTML(value='')))"
            ]
          },
          "metadata": {
            "tags": []
          }
        },
        {
          "output_type": "stream",
          "text": [
            "Extracting ./data/MNIST/raw/t10k-labels-idx1-ubyte.gz to ./data/MNIST/raw\n",
            "Processing...\n",
            "Done!\n"
          ],
          "name": "stdout"
        },
        {
          "output_type": "stream",
          "text": [
            "/usr/local/lib/python3.6/dist-packages/torchvision/datasets/mnist.py:480: UserWarning: The given NumPy array is not writeable, and PyTorch does not support non-writeable tensors. This means you can write to the underlying (supposedly non-writeable) NumPy array using the tensor. You may want to copy the array to protect its data or make it writeable before converting it to a tensor. This type of warning will be suppressed for the rest of this program. (Triggered internally at  /pytorch/torch/csrc/utils/tensor_numpy.cpp:141.)\n",
            "  return torch.from_numpy(parsed.astype(m[2], copy=False)).view(*s)\n"
          ],
          "name": "stderr"
        }
      ]
    },
    {
      "cell_type": "code",
      "metadata": {
        "id": "amVoAzr3Kigc"
      },
      "source": [
        "test_data = torchvision.datasets.MNIST(root='./data', transform=transforms.ToTensor())"
      ],
      "execution_count": 3,
      "outputs": []
    },
    {
      "cell_type": "code",
      "metadata": {
        "id": "742FZsJeK6qZ"
      },
      "source": [
        "train_loader = DataLoader(dataset=train_data, batch_size=100, shuffle=True)\n",
        "test_loader = DataLoader(dataset=test_data, batch_size=100, shuffle=False)"
      ],
      "execution_count": 4,
      "outputs": []
    },
    {
      "cell_type": "code",
      "metadata": {
        "colab": {
          "base_uri": "https://localhost:8080/"
        },
        "id": "rw1FscSdLmYl",
        "outputId": "143dfc68-3abc-41c0-b9c6-48c33c6b244d"
      },
      "source": [
        "exs = iter(train_loader)\n",
        "samples, labels = exs.next()\n",
        "print(samples.shape)"
      ],
      "execution_count": 5,
      "outputs": [
        {
          "output_type": "stream",
          "text": [
            "torch.Size([100, 1, 28, 28])\n"
          ],
          "name": "stdout"
        }
      ]
    },
    {
      "cell_type": "code",
      "metadata": {
        "id": "2nej2I3jL_yU"
      },
      "source": [
        "input_size = 28*28\n",
        "hidden_size = 100\n",
        "output_size = 10\n",
        "num_epoches = 50\n",
        "lr = 0.01"
      ],
      "execution_count": 6,
      "outputs": []
    },
    {
      "cell_type": "code",
      "metadata": {
        "colab": {
          "base_uri": "https://localhost:8080/",
          "height": 322
        },
        "id": "dM9Q-9h5MsNV",
        "outputId": "c920f12d-8693-43b9-989a-8cd8f0585e69"
      },
      "source": [
        "for i in range(6):\n",
        "  plt.subplot(2, 3, i+1)\n",
        "  plt.imshow(samples[i][0], cmap=\"gray\")\n",
        "plt.show()"
      ],
      "execution_count": 7,
      "outputs": [
        {
          "output_type": "stream",
          "text": [
            "\n",
            "\n",
            "\n"
          ],
          "name": "stdout"
        },
        {
          "output_type": "display_data",
          "data": {
            "image/png": "[encoded data removed]",
            "text/plain": [
              "<Figure size 432x288 with 6 Axes>"
            ]
          },
          "metadata": {
            "tags": [],
            "needs_background": "light"
          }
        }
      ]
    },
    {
      "cell_type": "markdown",
      "metadata": {
        "id": "AbFDbUoUNSKH"
      },
      "source": [
        "# Creating Class For Neural Network"
      ]
    },
    {
      "cell_type": "code",
      "metadata": {
        "id": "uSNJHrboM_Yk"
      },
      "source": [
        "class NeuralNet(nn.Module):\n",
        "  def __init__(self, input_size, hidden_size, output_size):\n",
        "    super(NeuralNet, self).__init__()\n",
        "    self.l1 = nn.Linear(input_size, hidden_size)\n",
        "    self.relu = nn.ReLU()\n",
        "    self.l2 = nn.Linear(hidden_size, output_size)\n",
        "\n",
        "  def forward(self, x):\n",
        "    x1 = self.l1(x)\n",
        "    x2 = self.relu(x1)\n",
        "    x3 = self.l2(x2)\n",
        "    return x3\n"
      ],
      "execution_count": 8,
      "outputs": []
    },
    {
      "cell_type": "code",
      "metadata": {
        "id": "Atc3WROWOVwr"
      },
      "source": [
        "model = NeuralNet(input_size, hidden_size, output_size)\n",
        "criterion = nn.CrossEntropyLoss()\n",
        "optimizer = torch.optim.Adam(model.parameters(), lr=lr)"
      ],
      "execution_count": 9,
      "outputs": []
    },
    {
      "cell_type": "code",
      "metadata": {
        "colab": {
          "base_uri": "https://localhost:8080/",
          "height": 36
        },
        "id": "15kNAhsPOr5I",
        "outputId": "0788995c-85f9-4771-e826-2fb3ac13c9ba"
      },
      "source": [
        "torch.cuda.get_device_name(0)"
      ],
      "execution_count": 10,
      "outputs": [
        {
          "output_type": "execute_result",
          "data": {
            "application/vnd.google.colaboratory.intrinsic+json": {
              "type": "string"
            },
            "text/plain": [
              "'Tesla T4'"
            ]
          },
          "metadata": {
            "tags": []
          },
          "execution_count": 10
        }
      ]
    },
    {
      "cell_type": "code",
      "metadata": {
        "id": "37xUiNL5PiSz"
      },
      "source": [
        "if torch.cuda.is_available():\n",
        "  device = torch.device(\"cuda\")\n",
        "else:\n",
        "  device = torch.device(\"cpu\")"
      ],
      "execution_count": 11,
      "outputs": []
    },
    {
      "cell_type": "code",
      "metadata": {
        "colab": {
          "base_uri": "https://localhost:8080/"
        },
        "id": "on9gWHQfQB0A",
        "outputId": "a542e625-27d2-4c4a-a7f2-4c5edef2c7c4"
      },
      "source": [
        "model.to(device)\n",
        "\n",
        "for epoch in range(num_epoches):\n",
        "  for i, (images, labels) in enumerate(train_loader):\n",
        "    #resize images\n",
        "    images = images.reshape(-1, 28*28).to(device)\n",
        "    labels = labels.to(device)\n",
        "\n",
        "    #forward pass\n",
        "    outputs = model(images)\n",
        "    loss = criterion(outputs, labels)\n",
        "\n",
        "    #backward pass\n",
        "    optimizer.zero_grad()\n",
        "    loss.backward()\n",
        "    optimizer.step()\n",
        "\n",
        "    if (i+1)%100 == 0:\n",
        "      print(f\"epoch:{epoch}\\t i:{i+1}\\t loss:{loss.item()}\")\n"
      ],
      "execution_count": 14,
      "outputs": [
        {
          "output_type": "stream",
          "text": [
            "epoch:0\t i:100\t loss:0.16881488263607025\n",
            "epoch:0\t i:200\t loss:0.2066056877374649\n",
            "epoch:0\t i:300\t loss:0.3918013870716095\n",
            "epoch:0\t i:400\t loss:0.186104416847229\n",
            "epoch:0\t i:500\t loss:0.06835402548313141\n",
            "epoch:0\t i:600\t loss:0.08734573423862457\n",
            "epoch:1\t i:100\t loss:0.09753868728876114\n",
            "epoch:1\t i:200\t loss:0.11353752017021179\n",
            "epoch:1\t i:300\t loss:0.13643920421600342\n",
            "epoch:1\t i:400\t loss:0.25218266248703003\n",
            "epoch:1\t i:500\t loss:0.1305164396762848\n",
            "epoch:1\t i:600\t loss:0.06199654936790466\n",
            "epoch:2\t i:100\t loss:0.062361858785152435\n",
            "epoch:2\t i:200\t loss:0.012917202897369862\n",
            "epoch:2\t i:300\t loss:0.07129337638616562\n",
            "epoch:2\t i:400\t loss:0.05625869333744049\n",
            "epoch:2\t i:500\t loss:0.06878867000341415\n",
            "epoch:2\t i:600\t loss:0.10054969042539597\n",
            "epoch:3\t i:100\t loss:0.04261987283825874\n",
            "epoch:3\t i:200\t loss:0.01771981455385685\n",
            "epoch:3\t i:300\t loss:0.08486058562994003\n",
            "epoch:3\t i:400\t loss:0.04929414391517639\n",
            "epoch:3\t i:500\t loss:0.028903689235448837\n",
            "epoch:3\t i:600\t loss:0.1296624094247818\n",
            "epoch:4\t i:100\t loss:0.10362938046455383\n",
            "epoch:4\t i:200\t loss:0.10417982935905457\n",
            "epoch:4\t i:300\t loss:0.06973634660243988\n",
            "epoch:4\t i:400\t loss:0.025303611531853676\n",
            "epoch:4\t i:500\t loss:0.0983503982424736\n",
            "epoch:4\t i:600\t loss:0.1890227347612381\n",
            "epoch:5\t i:100\t loss:0.06460965424776077\n",
            "epoch:5\t i:200\t loss:0.22801803052425385\n",
            "epoch:5\t i:300\t loss:0.0506032332777977\n",
            "epoch:5\t i:400\t loss:0.03557164967060089\n",
            "epoch:5\t i:500\t loss:0.028643440455198288\n",
            "epoch:5\t i:600\t loss:0.0898110494017601\n",
            "epoch:6\t i:100\t loss:0.00722676794975996\n",
            "epoch:6\t i:200\t loss:0.00596290547400713\n",
            "epoch:6\t i:300\t loss:0.05862903594970703\n",
            "epoch:6\t i:400\t loss:0.07923678308725357\n",
            "epoch:6\t i:500\t loss:0.1737673133611679\n",
            "epoch:6\t i:600\t loss:0.0008868139702826738\n",
            "epoch:7\t i:100\t loss:0.002679863478988409\n",
            "epoch:7\t i:200\t loss:0.17574870586395264\n",
            "epoch:7\t i:300\t loss:0.03458990529179573\n",
            "epoch:7\t i:400\t loss:0.30595099925994873\n",
            "epoch:7\t i:500\t loss:0.03462527319788933\n",
            "epoch:7\t i:600\t loss:0.21785226464271545\n",
            "epoch:8\t i:100\t loss:0.026744984090328217\n",
            "epoch:8\t i:200\t loss:0.12032154202461243\n",
            "epoch:8\t i:300\t loss:0.060913752764463425\n",
            "epoch:8\t i:400\t loss:0.13971242308616638\n",
            "epoch:8\t i:500\t loss:0.12498359382152557\n",
            "epoch:8\t i:600\t loss:0.03718185052275658\n",
            "epoch:9\t i:100\t loss:0.09237728267908096\n",
            "epoch:9\t i:200\t loss:0.12159104645252228\n",
            "epoch:9\t i:300\t loss:0.012317052111029625\n",
            "epoch:9\t i:400\t loss:0.05589361488819122\n",
            "epoch:9\t i:500\t loss:0.13022063672542572\n",
            "epoch:9\t i:600\t loss:0.128220796585083\n",
            "epoch:10\t i:100\t loss:0.035304609686136246\n",
            "epoch:10\t i:200\t loss:0.018739383667707443\n",
            "epoch:10\t i:300\t loss:0.005272495094686747\n",
            "epoch:10\t i:400\t loss:0.0005831547314301133\n",
            "epoch:10\t i:500\t loss:0.04284875839948654\n",
            "epoch:10\t i:600\t loss:0.06360775232315063\n",
            "epoch:11\t i:100\t loss:0.10842039436101913\n",
            "epoch:11\t i:200\t loss:0.20393553376197815\n",
            "epoch:11\t i:300\t loss:0.04598264396190643\n",
            "epoch:11\t i:400\t loss:0.2424246370792389\n",
            "epoch:11\t i:500\t loss:0.019578447565436363\n",
            "epoch:11\t i:600\t loss:0.21010556817054749\n",
            "epoch:12\t i:100\t loss:0.00907291192561388\n",
            "epoch:12\t i:200\t loss:0.03559286519885063\n",
            "epoch:12\t i:300\t loss:0.028306303545832634\n",
            "epoch:12\t i:400\t loss:0.05107518658041954\n",
            "epoch:12\t i:500\t loss:0.0017468291334807873\n",
            "epoch:12\t i:600\t loss:0.006031194236129522\n",
            "epoch:13\t i:100\t loss:0.005072559230029583\n",
            "epoch:13\t i:200\t loss:0.06022196635603905\n",
            "epoch:13\t i:300\t loss:0.03181914612650871\n",
            "epoch:13\t i:400\t loss:0.04795847460627556\n",
            "epoch:13\t i:500\t loss:0.05229859799146652\n",
            "epoch:13\t i:600\t loss:0.05578097701072693\n",
            "epoch:14\t i:100\t loss:0.03972025215625763\n",
            "epoch:14\t i:200\t loss:0.05735735967755318\n",
            "epoch:14\t i:300\t loss:0.000309962808387354\n",
            "epoch:14\t i:400\t loss:0.03026839904487133\n",
            "epoch:14\t i:500\t loss:0.02999236434698105\n",
            "epoch:14\t i:600\t loss:0.08082927763462067\n",
            "epoch:15\t i:100\t loss:0.07616904377937317\n",
            "epoch:15\t i:200\t loss:0.011681143194437027\n",
            "epoch:15\t i:300\t loss:0.03532387688755989\n",
            "epoch:15\t i:400\t loss:0.0647500529885292\n",
            "epoch:15\t i:500\t loss:1.5008140508143697e-06\n",
            "epoch:15\t i:600\t loss:0.05539242923259735\n",
            "epoch:16\t i:100\t loss:0.11828422546386719\n",
            "epoch:16\t i:200\t loss:0.1448262482881546\n",
            "epoch:16\t i:300\t loss:0.11478643119335175\n",
            "epoch:16\t i:400\t loss:0.1575465351343155\n",
            "epoch:16\t i:500\t loss:0.14317487180233002\n",
            "epoch:16\t i:600\t loss:0.0016902785282582045\n",
            "epoch:17\t i:100\t loss:0.009918365627527237\n",
            "epoch:17\t i:200\t loss:0.0031710430048406124\n",
            "epoch:17\t i:300\t loss:0.017000101506710052\n",
            "epoch:17\t i:400\t loss:0.04662562906742096\n",
            "epoch:17\t i:500\t loss:0.04742049053311348\n",
            "epoch:17\t i:600\t loss:0.07717198133468628\n",
            "epoch:18\t i:100\t loss:0.21610380709171295\n",
            "epoch:18\t i:200\t loss:0.00019800482550635934\n",
            "epoch:18\t i:300\t loss:5.910545587539673e-05\n",
            "epoch:18\t i:400\t loss:0.011469397693872452\n",
            "epoch:18\t i:500\t loss:0.027585528790950775\n",
            "epoch:18\t i:600\t loss:0.025253817439079285\n",
            "epoch:19\t i:100\t loss:0.2658655047416687\n",
            "epoch:19\t i:200\t loss:0.006638638209551573\n",
            "epoch:19\t i:300\t loss:0.02910548448562622\n",
            "epoch:19\t i:400\t loss:0.00029740817262791097\n",
            "epoch:19\t i:500\t loss:0.06702277064323425\n",
            "epoch:19\t i:600\t loss:0.010168468579649925\n",
            "epoch:20\t i:100\t loss:0.013066034764051437\n",
            "epoch:20\t i:200\t loss:0.18152490258216858\n",
            "epoch:20\t i:300\t loss:0.01662432588636875\n",
            "epoch:20\t i:400\t loss:0.12367770820856094\n",
            "epoch:20\t i:500\t loss:0.00021468989143613726\n",
            "epoch:20\t i:600\t loss:0.0070871408097445965\n",
            "epoch:21\t i:100\t loss:0.00019434196292422712\n",
            "epoch:21\t i:200\t loss:0.0011584142921492457\n",
            "epoch:21\t i:300\t loss:0.07543070614337921\n",
            "epoch:21\t i:400\t loss:0.10571321845054626\n",
            "epoch:21\t i:500\t loss:0.0005399292567744851\n",
            "epoch:21\t i:600\t loss:0.09396670013666153\n",
            "epoch:22\t i:100\t loss:0.1420571655035019\n",
            "epoch:22\t i:200\t loss:0.067231684923172\n",
            "epoch:22\t i:300\t loss:0.16905443370342255\n",
            "epoch:22\t i:400\t loss:0.038063570857048035\n",
            "epoch:22\t i:500\t loss:0.07861734181642532\n",
            "epoch:22\t i:600\t loss:0.0033791696187108755\n",
            "epoch:23\t i:100\t loss:0.0015193356666713953\n",
            "epoch:23\t i:200\t loss:0.0007870367262512445\n",
            "epoch:23\t i:300\t loss:0.002326211892068386\n",
            "epoch:23\t i:400\t loss:0.08297600597143173\n",
            "epoch:23\t i:500\t loss:0.001280120573937893\n",
            "epoch:23\t i:600\t loss:0.009074424393475056\n",
            "epoch:24\t i:100\t loss:0.013761593960225582\n",
            "epoch:24\t i:200\t loss:0.0002458539674989879\n",
            "epoch:24\t i:300\t loss:0.0012087383074685931\n",
            "epoch:24\t i:400\t loss:0.03650525584816933\n",
            "epoch:24\t i:500\t loss:0.0014503232669085264\n",
            "epoch:24\t i:600\t loss:0.00903391558676958\n",
            "epoch:25\t i:100\t loss:0.08253169059753418\n",
            "epoch:25\t i:200\t loss:0.0030821021646261215\n",
            "epoch:25\t i:300\t loss:0.021556414663791656\n",
            "epoch:25\t i:400\t loss:0.0317266583442688\n",
            "epoch:25\t i:500\t loss:0.346709668636322\n",
            "epoch:25\t i:600\t loss:6.0122016293462366e-05\n",
            "epoch:26\t i:100\t loss:0.02605488710105419\n",
            "epoch:26\t i:200\t loss:0.07258851826190948\n",
            "epoch:26\t i:300\t loss:0.1613188236951828\n",
            "epoch:26\t i:400\t loss:0.015794752165675163\n",
            "epoch:26\t i:500\t loss:0.26971435546875\n",
            "epoch:26\t i:600\t loss:0.2956702709197998\n",
            "epoch:27\t i:100\t loss:0.11213108897209167\n",
            "epoch:27\t i:200\t loss:2.775920984277036e-05\n",
            "epoch:27\t i:300\t loss:0.003952300641685724\n",
            "epoch:27\t i:400\t loss:2.9066412025713362e-05\n",
            "epoch:27\t i:500\t loss:0.00013196325744502246\n",
            "epoch:27\t i:600\t loss:0.281114399433136\n",
            "epoch:28\t i:100\t loss:0.028704717755317688\n",
            "epoch:28\t i:200\t loss:3.3543944937264314e-06\n",
            "epoch:28\t i:300\t loss:0.0005142602603882551\n",
            "epoch:28\t i:400\t loss:3.333908580316347e-06\n",
            "epoch:28\t i:500\t loss:0.0077910698018968105\n",
            "epoch:28\t i:600\t loss:0.018806280568242073\n",
            "epoch:29\t i:100\t loss:0.00010812030086526647\n",
            "epoch:29\t i:200\t loss:0.0013756656553596258\n",
            "epoch:29\t i:300\t loss:0.0015972595429047942\n",
            "epoch:29\t i:400\t loss:0.06948946416378021\n",
            "epoch:29\t i:500\t loss:0.013667656108736992\n",
            "epoch:29\t i:600\t loss:0.12052188813686371\n",
            "epoch:30\t i:100\t loss:0.01695251278579235\n",
            "epoch:30\t i:200\t loss:1.0013539508690883e-07\n",
            "epoch:30\t i:300\t loss:0.06853043287992477\n",
            "epoch:30\t i:400\t loss:0.10229387134313583\n",
            "epoch:30\t i:500\t loss:0.014673279598355293\n",
            "epoch:30\t i:600\t loss:0.16741815209388733\n",
            "epoch:31\t i:100\t loss:0.09594828635454178\n",
            "epoch:31\t i:200\t loss:8.249148208960833e-07\n",
            "epoch:31\t i:300\t loss:0.0002724338846746832\n",
            "epoch:31\t i:400\t loss:0.0006230147555470467\n",
            "epoch:31\t i:500\t loss:0.3306208550930023\n",
            "epoch:31\t i:600\t loss:0.35150146484375\n",
            "epoch:32\t i:100\t loss:0.001789733418263495\n",
            "epoch:32\t i:200\t loss:0.006797369569540024\n",
            "epoch:32\t i:300\t loss:0.0001349779195152223\n",
            "epoch:32\t i:400\t loss:0.07673860341310501\n",
            "epoch:32\t i:500\t loss:0.002327860100194812\n",
            "epoch:32\t i:600\t loss:1.6771825812611496e-06\n",
            "epoch:33\t i:100\t loss:0.0005937543464824557\n",
            "epoch:33\t i:200\t loss:6.335272337310016e-05\n",
            "epoch:33\t i:300\t loss:0.030205488204956055\n",
            "epoch:33\t i:400\t loss:0.12007896602153778\n",
            "epoch:33\t i:500\t loss:0.004282184410840273\n",
            "epoch:33\t i:600\t loss:7.101428491296247e-05\n",
            "epoch:34\t i:100\t loss:0.06667827814817429\n",
            "epoch:34\t i:200\t loss:0.11884798854589462\n",
            "epoch:34\t i:300\t loss:0.028431270271539688\n",
            "epoch:34\t i:400\t loss:0.016516514122486115\n",
            "epoch:34\t i:500\t loss:0.012262795120477676\n",
            "epoch:34\t i:600\t loss:0.035340696573257446\n",
            "epoch:35\t i:100\t loss:0.09446784108877182\n",
            "epoch:35\t i:200\t loss:0.002956664888188243\n",
            "epoch:35\t i:300\t loss:0.026047589257359505\n",
            "epoch:35\t i:400\t loss:0.000138461880851537\n",
            "epoch:35\t i:500\t loss:0.04822235181927681\n",
            "epoch:35\t i:600\t loss:3.576278384542775e-09\n",
            "epoch:36\t i:100\t loss:0.583351194858551\n",
            "epoch:36\t i:200\t loss:0.05075138062238693\n",
            "epoch:36\t i:300\t loss:0.2658216953277588\n",
            "epoch:36\t i:400\t loss:0.0002713949652388692\n",
            "epoch:36\t i:500\t loss:0.00037410095683299005\n",
            "epoch:36\t i:600\t loss:3.8861821849422995e-07\n",
            "epoch:37\t i:100\t loss:0.05278642475605011\n",
            "epoch:37\t i:200\t loss:0.0001390124234603718\n",
            "epoch:37\t i:300\t loss:4.7095549234654754e-05\n",
            "epoch:37\t i:400\t loss:7.510170974001085e-08\n",
            "epoch:37\t i:500\t loss:0.027356639504432678\n",
            "epoch:37\t i:600\t loss:0.006223716307431459\n",
            "epoch:38\t i:100\t loss:0.0611664354801178\n",
            "epoch:38\t i:200\t loss:0.0374283529818058\n",
            "epoch:38\t i:300\t loss:1.2034975952701643e-05\n",
            "epoch:38\t i:400\t loss:0.00047122559044510126\n",
            "epoch:38\t i:500\t loss:0.013759697787463665\n",
            "epoch:38\t i:600\t loss:0.00032199223642237484\n",
            "epoch:39\t i:100\t loss:0.0003610143903642893\n",
            "epoch:39\t i:200\t loss:6.201810720085632e-06\n",
            "epoch:39\t i:300\t loss:4.31532754419095e-07\n",
            "epoch:39\t i:400\t loss:0.09919071197509766\n",
            "epoch:39\t i:500\t loss:0.030917420983314514\n",
            "epoch:39\t i:600\t loss:3.7427973893500166e-06\n",
            "epoch:40\t i:100\t loss:0.05108388885855675\n",
            "epoch:40\t i:200\t loss:0.031232941895723343\n",
            "epoch:40\t i:300\t loss:0.03605305030941963\n",
            "epoch:40\t i:400\t loss:0.00019417608564253896\n",
            "epoch:40\t i:500\t loss:0.005619728472083807\n",
            "epoch:40\t i:600\t loss:0.03985440358519554\n",
            "epoch:41\t i:100\t loss:1.19209286886246e-09\n",
            "epoch:41\t i:200\t loss:0.03413039818406105\n",
            "epoch:41\t i:300\t loss:6.954623677302152e-05\n",
            "epoch:41\t i:400\t loss:2.075289376080036e-05\n",
            "epoch:41\t i:500\t loss:0.05561775714159012\n",
            "epoch:41\t i:600\t loss:0.06161436066031456\n",
            "epoch:42\t i:100\t loss:6.234997272258624e-05\n",
            "epoch:42\t i:200\t loss:1.7881379932305208e-08\n",
            "epoch:42\t i:300\t loss:3.0964518373366445e-05\n",
            "epoch:42\t i:400\t loss:0.00121138000395149\n",
            "epoch:42\t i:500\t loss:0.2431156486272812\n",
            "epoch:42\t i:600\t loss:0.016080357134342194\n",
            "epoch:43\t i:100\t loss:0.02350866235792637\n",
            "epoch:43\t i:200\t loss:0.013049033470451832\n",
            "epoch:43\t i:300\t loss:0.0449550487101078\n",
            "epoch:43\t i:400\t loss:0.0009635019232518971\n",
            "epoch:43\t i:500\t loss:7.865435327403247e-05\n",
            "epoch:43\t i:600\t loss:2.6523033739067614e-05\n",
            "epoch:44\t i:100\t loss:4.590330718201585e-05\n",
            "epoch:44\t i:200\t loss:2.1457660537294032e-08\n",
            "epoch:44\t i:300\t loss:5.243834948487347e-06\n",
            "epoch:44\t i:400\t loss:2.7418108672350172e-08\n",
            "epoch:44\t i:500\t loss:0.019209476187825203\n",
            "epoch:44\t i:600\t loss:4.0453137444274034e-06\n",
            "epoch:45\t i:100\t loss:0.06028994545340538\n",
            "epoch:45\t i:200\t loss:1.4888131545376382e-06\n",
            "epoch:45\t i:300\t loss:1.8358073816671094e-07\n",
            "epoch:45\t i:400\t loss:1.1118787369923666e-05\n",
            "epoch:45\t i:500\t loss:0.00022203195840120316\n",
            "epoch:45\t i:600\t loss:1.0490362711834678e-07\n",
            "epoch:46\t i:100\t loss:0.0031961416825652122\n",
            "epoch:46\t i:200\t loss:0.07571015506982803\n",
            "epoch:46\t i:300\t loss:0.07589804381132126\n",
            "epoch:46\t i:400\t loss:1.9073468138230965e-08\n",
            "epoch:46\t i:500\t loss:0.004221037495881319\n",
            "epoch:46\t i:600\t loss:0.011166461743414402\n",
            "epoch:47\t i:100\t loss:0.06497104465961456\n",
            "epoch:47\t i:200\t loss:2.1288512925821124e-06\n",
            "epoch:47\t i:300\t loss:0.00018983946938533336\n",
            "epoch:47\t i:400\t loss:2.9712884497712366e-05\n",
            "epoch:47\t i:500\t loss:3.611976353568025e-07\n",
            "epoch:47\t i:600\t loss:0.0017463447293266654\n",
            "epoch:48\t i:100\t loss:3.123539863736369e-05\n",
            "epoch:48\t i:200\t loss:0.0\n",
            "epoch:48\t i:300\t loss:1.5997409263945883e-06\n",
            "epoch:48\t i:400\t loss:0.07469785958528519\n",
            "epoch:48\t i:500\t loss:0.09482861310243607\n",
            "epoch:48\t i:600\t loss:2.8729030532304023e-07\n",
            "epoch:49\t i:100\t loss:0.16507534682750702\n",
            "epoch:49\t i:200\t loss:0.0580565482378006\n",
            "epoch:49\t i:300\t loss:0.10963132977485657\n",
            "epoch:49\t i:400\t loss:0.003125103423371911\n",
            "epoch:49\t i:500\t loss:4.239404461259255e-06\n",
            "epoch:49\t i:600\t loss:0.016445189714431763\n"
          ],
          "name": "stdout"
        }
      ]
    },
    {
      "cell_type": "code",
      "metadata": {
        "colab": {
          "base_uri": "https://localhost:8080/"
        },
        "id": "OZfx-N5ERiOF",
        "outputId": "91225c69-e8ca-4310-af7e-08a30de47386"
      },
      "source": [
        "with torch.no_grad():\n",
        "  n_correct = 0\n",
        "  n_samples = 0\n",
        "  for images, labels in test_loader:\n",
        "    images = images.reshape(-1, 28*28).to(device)\n",
        "    labels = labels.to(device)\n",
        "    outputs = model(images)\n",
        "\n",
        "    value, pred = torch.max(outputs, 1)\n",
        "    n_samples += labels.shape[0]\n",
        "    n_correct += (pred == labels).sum().item()\n",
        "\n",
        "  acc = 100.0*(n_correct/n_samples)\n",
        "  print(acc)\n"
      ],
      "execution_count": 17,
      "outputs": [
        {
          "output_type": "stream",
          "text": [
            "99.595\n"
          ],
          "name": "stdout"
        }
      ]
    },
    {
      "cell_type": "code",
      "metadata": {
        "id": "bNi3FcD1ViU4"
      },
      "source": [
        ""
      ],
      "execution_count": null,
      "outputs": []
    }
  ]
}